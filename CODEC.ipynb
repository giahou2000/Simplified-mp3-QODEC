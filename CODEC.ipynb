{
 "cells": [
  {
   "attachments": {},
   "cell_type": "markdown",
   "metadata": {},
   "source": [
    "#   **Multimedia systems course | ECE AUTH | Winter semester 2022**\n",
    "## **Simplified mp3 CODEC**"
   ]
  },
  {
   "attachments": {},
   "cell_type": "markdown",
   "metadata": {},
   "source": [
    ">   Giachoudis Christos\n",
    "\n",
    "\n",
    ">   Kostopoulos Andreas Marios\n",
    "\n",
    "\n",
    "![ logo](mp3.png)"
   ]
  },
  {
   "attachments": {},
   "cell_type": "markdown",
   "metadata": {},
   "source": [
    "## Necessary imports"
   ]
  },
  {
   "cell_type": "code",
   "execution_count": 5,
   "metadata": {},
   "outputs": [],
   "source": [
    "# Importing the necessary libraries, files and modules\n",
    "import numpy as np\n",
    "import math\n",
    "import matplotlib.pyplot as plt\n",
    "from scipy.io import wavfile\n",
    "from frame import *"
   ]
  },
  {
   "attachments": {},
   "cell_type": "markdown",
   "metadata": {},
   "source": [
    "## h coefficients import\n"
   ]
  },
  {
   "cell_type": "code",
   "execution_count": 14,
   "metadata": {},
   "outputs": [
    {
     "name": "stdout",
     "output_type": "stream",
     "text": [
      "<class 'dict'>\n",
      "512\n"
     ]
    }
   ],
   "source": [
    "h_coeffs = np.load('h.npy', allow_pickle=True).tolist()\n",
    "print(type(h_coeffs))\n",
    "h_coeffs = h_coeffs['h'].reshape(-1,)\n",
    "# print(h_coeffs[4])\n",
    "# print(h_coeffs)\n",
    "print(len(h_coeffs))"
   ]
  },
  {
   "attachments": {},
   "cell_type": "markdown",
   "metadata": {},
   "source": [
    "## Import `wav` file"
   ]
  },
  {
   "cell_type": "code",
   "execution_count": 7,
   "metadata": {},
   "outputs": [
    {
     "name": "stdout",
     "output_type": "stream",
     "text": [
      "WAV file imported successfully!!! This file has been created with a sample rate of 44100 Hz.\n"
     ]
    }
   ],
   "source": [
    "samplerate, data = wavfile.read('./myfile.wav')\n",
    "print(f\"WAV file imported successfully!!! This file has been created with a sample rate of {samplerate} Hz.\")"
   ]
  },
  {
   "cell_type": "code",
   "execution_count": 8,
   "metadata": {},
   "outputs": [
    {
     "name": "stdout",
     "output_type": "stream",
     "text": [
      "We will work with <class 'numpy.ndarray'>\n"
     ]
    }
   ],
   "source": [
    "# just for testing | at the end we can delete it\n",
    "print(f\"We will work with {type(data)}\")"
   ]
  },
  {
   "attachments": {},
   "cell_type": "markdown",
   "metadata": {},
   "source": [
    "## **Coder functions**"
   ]
  },
  {
   "attachments": {},
   "cell_type": "markdown",
   "metadata": {},
   "source": [
    "### make_mp3_analysisfb"
   ]
  },
  {
   "cell_type": "code",
   "execution_count": 15,
   "metadata": {},
   "outputs": [],
   "source": [
    "def make_mp3_analysisfb(h, M):\n",
    "    L = 10\n",
    "    H = np.ndarray(L, M)\n",
    "    # with a for loop call frame_sub_analysis() to compute the coefficients\n",
    "    for i in range(0, M):\n",
    "        xbuff = data[i] # wrooooooooong\n",
    "        q = 5 # wrooooooooong\n",
    "        H[i] = frame_sub_analysis(xbuff, H, q) # something like it\n",
    "    return H"
   ]
  },
  {
   "attachments": {},
   "cell_type": "markdown",
   "metadata": {},
   "source": [
    "## **Decoder functions**"
   ]
  },
  {
   "attachments": {},
   "cell_type": "markdown",
   "metadata": {},
   "source": [
    "### make_mp3_synthesisfb"
   ]
  },
  {
   "cell_type": "code",
   "execution_count": 13,
   "metadata": {},
   "outputs": [],
   "source": [
    "def make_mp3_synthesisfb(h, M):\n",
    "    G = 0\n",
    "    # with a for loop call frame_sub_synthesis() to compute the coefficients\n",
    "    return G"
   ]
  },
  {
   "attachments": {},
   "cell_type": "markdown",
   "metadata": {},
   "source": [
    "## **Coder - Decoder**"
   ]
  },
  {
   "attachments": {},
   "cell_type": "markdown",
   "metadata": {},
   "source": [
    "### 1) Subband filtering"
   ]
  },
  {
   "attachments": {},
   "cell_type": "markdown",
   "metadata": {},
   "source": [
    "1.1: `H and G computation`"
   ]
  },
  {
   "cell_type": "code",
   "execution_count": 14,
   "metadata": {},
   "outputs": [],
   "source": [
    "h = h_coeffs\n",
    "M = 32\n",
    "H = make_mp3_analysisfb(h, M)"
   ]
  },
  {
   "cell_type": "code",
   "execution_count": 16,
   "metadata": {},
   "outputs": [],
   "source": [
    "h = h_coeffs\n",
    "M = 32\n",
    "G = make_mp3_synthesisfb(h, M)"
   ]
  },
  {
   "attachments": {},
   "cell_type": "markdown",
   "metadata": {},
   "source": [
    "1.2: `Hs plotting on f frequency(Hz)`"
   ]
  },
  {
   "attachments": {},
   "cell_type": "markdown",
   "metadata": {},
   "source": [
    "1.3: `Hs plotting on z frequency(barks)`"
   ]
  },
  {
   "attachments": {},
   "cell_type": "markdown",
   "metadata": {},
   "source": [
    "1.4: `codec0`"
   ]
  },
  {
   "attachments": {},
   "cell_type": "markdown",
   "metadata": {},
   "source": [
    "1.5: `coder0`"
   ]
  },
  {
   "attachments": {},
   "cell_type": "markdown",
   "metadata": {},
   "source": [
    "1.6: `decoder0`"
   ]
  },
  {
   "attachments": {},
   "cell_type": "markdown",
   "metadata": {},
   "source": [
    "1.7: `Coding/Decoding`"
   ]
  }
 ],
 "metadata": {
  "kernelspec": {
   "display_name": "Python 3",
   "language": "python",
   "name": "python3"
  },
  "language_info": {
   "codemirror_mode": {
    "name": "ipython",
    "version": 3
   },
   "file_extension": ".py",
   "mimetype": "text/x-python",
   "name": "python",
   "nbconvert_exporter": "python",
   "pygments_lexer": "ipython3",
   "version": "3.11.1"
  },
  "orig_nbformat": 4,
  "vscode": {
   "interpreter": {
    "hash": "5238573367df39f7286bb46f9ff5f08f63a01a80960060ce41e3c79b190280fa"
   }
  }
 },
 "nbformat": 4,
 "nbformat_minor": 2
}
